{
 "cells": [
  {
   "cell_type": "markdown",
   "metadata": {
    "collapsed": true
   },
   "source": [
    "# MGRS project"
   ]
  },
  {
   "cell_type": "markdown",
   "metadata": {},
   "source": [
    "##### TODO"
   ]
  },
  {
   "cell_type": "markdown",
   "metadata": {},
   "source": [
    "- Try to obtain similar results as Sofia Antipolis\n",
    "- Rebuild the analysis from fastq"
   ]
  },
  {
   "cell_type": "markdown",
   "metadata": {},
   "source": [
    "## 1) Introduction"
   ]
  },
  {
   "cell_type": "markdown",
   "metadata": {},
   "source": [
    "Laboratory has developped cellular and animal tools to have a better understanding of intrinsic (plasmocyte) and extrinsic (kidney toxicity) impact of some immunoglobulins (Ig).\n",
    "Part 1 : Some anormal Igs (truncates or incompletes) are toxic for plasmocytes producing it. Factors of this toxicity will be study comparing plasmocytes transcriptome secreting normal vs anormal Ig.\n",
    "For each condition, 3 duplicates.\n",
    "Part 2 : We have shown that some Igs could remotly induce kidney disrupt and we want to analyse mechanisms leading to this toxicity. This second part is the 3rd biological replicate of an analysis already start with ReaIg 1922 project and ToxIg2. Analysis done on RNApolyA"
   ]
  },
  {
   "cell_type": "markdown",
   "metadata": {},
   "source": [
    "## 2) Data"
   ]
  },
  {
   "cell_type": "markdown",
   "metadata": {},
   "source": [
    "### 2.1) Raw reads"
   ]
  },
  {
   "cell_type": "markdown",
   "metadata": {},
   "source": [
    "Fastq sent from Sofia-Antipolis"
   ]
  },
  {
   "cell_type": "code",
   "execution_count": null,
   "metadata": {
    "code_folding": [
     0
    ],
    "collapsed": true
   },
   "outputs": [],
   "source": [
    "### CODE ###\n",
    "# Untar file\n",
    "tar -xvf sirac.tar;"
   ]
  },
  {
   "cell_type": "markdown",
   "metadata": {},
   "source": [
    "### 2.2) Mus Musculus"
   ]
  },
  {
   "cell_type": "markdown",
   "metadata": {},
   "source": [
    "#### 2.2.1) Gencode vs Ensembl"
   ]
  },
  {
   "cell_type": "markdown",
   "metadata": {},
   "source": [
    "In order to have strong analysis, we manage to get the most comprehensive datasets.\n",
    "Two consortium deliver annotation genome (Gencode and Ensembl).\n",
    "\n",
    "We choose for each of them the last release (M16, GRCm38.p5)\n",
    "Ensembl annotation contains  53946 whereas Gencode annotation contains 53927 genes, which is quite similar.\n",
    "\n",
    "Using the last transcriptome release of these consortium, we manage to compare annotations with transcritomes against each other to get the better intersection of information."
   ]
  },
  {
   "cell_type": "markdown",
   "metadata": {},
   "source": [
    "Gencode transcriptome contains 53379 genes and Gencode annotation contains 53927 genes annotation. 53379 genes are communs, 0 specific to transcriptome and 548 specific to annotation."
   ]
  },
  {
   "cell_type": "markdown",
   "metadata": {},
   "source": [
    "Ensembl transcriptome contains 50824 genes and Gencode annotation contains 53927 genes annotation. 50805 genes are communs, 19 specific to transcriptome and 3122 specific to annotation."
   ]
  },
  {
   "cell_type": "markdown",
   "metadata": {},
   "source": [
    "Ensembl transcriptome contains 50824 genes and Ensembl annotation contains 53946 genes annotation. 39677 genes are communs, 11110 specific to transcriptome and 26698 specific to annotation."
   ]
  },
  {
   "cell_type": "markdown",
   "metadata": {},
   "source": [
    "Gencode transcriptome contains 53379 genes and Ensembl annotation contains 53946 genes annotation. 42232 genes are communs, 11147 specific to transcriptome and 11714 specific to annotation."
   ]
  },
  {
   "cell_type": "markdown",
   "metadata": {},
   "source": [
    "In terms of transcriptome annotation and commun annotation the deal Gencode transcritome/Gencode annotation is the best."
   ]
  },
  {
   "cell_type": "markdown",
   "metadata": {},
   "source": [
    "#### 2.2.2) p5 version vs p6 version"
   ]
  },
  {
   "cell_type": "markdown",
   "metadata": {},
   "source": [
    "Some tests were also made to take the best reference genome. 3 consortium deliver reference genome, Genome Reference Consortium (GRC), Gencode and Ensembl.\n",
    "\n",
    "As Ensembl and Gencode have the same last genome release (p5) and that we choose to keep Gencode transcriptome and gencode annotation, Gencode genome is favoured over Ensembl genome.\n",
    "\n",
    "GRC last genome release is p6 which is one minor release above Gencode.\n",
    "To make a choice between them, we asume that the number of chromosome in each reference genome will be sufficient.\n",
    "\n",
    "We get 239 different chromosomes in GRC version and 107 different chromosomes in Gencode version.\n",
    "\n",
    "In order to stick the counted read calibration that will be made by featureCounts using the annotation file, we need to find a reference genome which is covered by the annotation file.\n",
    "\n",
    "For GRC genome reference, 86 chromosome names are commun to genome and annotation, 153 chrosomes names are unique to genome and 0 are unique to annotation.\n",
    "\n",
    "For Gencode genome reference, 86 chromosome names are commun to genome and annotation, 21 chrosomes names are unique to genome and 0 are unique to annotation.\n",
    "\n",
    "Then, as uniques chromosome will be remove from reference genome, it doesn't matter which one will be taken. So we took Gencode genome reference to keep the same metric (only Gencode)."
   ]
  },
  {
   "cell_type": "markdown",
   "metadata": {},
   "source": [
    "#### 2.2.3) Reference genome"
   ]
  },
  {
   "cell_type": "markdown",
   "metadata": {},
   "source": [
    "###### Downloaded from Gencode, latest realease (M16) :"
   ]
  },
  {
   "cell_type": "code",
   "execution_count": null,
   "metadata": {
    "code_folding": [
     0
    ],
    "collapsed": true
   },
   "outputs": [],
   "source": [
    "### CODE ###\n",
    "url='ftp://ftp.sanger.ac.uk/pub/gencode/Gencode_mouse/release_M16';\n",
    "axel -q $url/GRCm38.p5.genome.fa.gz;\n",
    "unpigz GRCm38.p5.genome.fa.gz;"
   ]
  },
  {
   "cell_type": "markdown",
   "metadata": {},
   "source": [
    "#### 2.2.4) Reference transcriptome"
   ]
  },
  {
   "cell_type": "markdown",
   "metadata": {},
   "source": [
    "######  Downloaded from Gencode, latest realease (M16) :"
   ]
  },
  {
   "cell_type": "code",
   "execution_count": null,
   "metadata": {
    "code_folding": [
     0
    ],
    "collapsed": true
   },
   "outputs": [],
   "source": [
    "### CODE ###\n",
    "url='ftp://ftp.sanger.ac.uk/pub/gencode/Gencode_mouse/release_M16';\n",
    "axel -q $url/gencode.vM16.transcripts.fa.gz;\n",
    "axel -q $url/gencode.vM16.lncRNA_transcripts.fa.gz;\n",
    "axel -q $url/gencode.vM16.pc_transcripts.fa.gz;\n",
    "cat gencode.vM16.transcripts.fa.gz \\\n",
    "    gencode.vM16.lncRNA_transcripts.fa.gz \\\n",
    "    gencode.vM16.pc_transcripts.fa.gz \\\n",
    "    > gencode.vM16_cdna_ncrna_pc.fasta.gz;\n",
    "rm gencode.vM16.transcripts.fa.gz gencode.vM16.lncRNA_transcripts.fa.gz gencode.vM16.pc_transcripts.fa.gz;\n",
    "gunzip gencode.vM16_cdna_ncrna_pc.fasta.gz;"
   ]
  },
  {
   "cell_type": "markdown",
   "metadata": {},
   "source": [
    "#### 2.2.5) GTF annotations"
   ]
  },
  {
   "cell_type": "markdown",
   "metadata": {},
   "source": [
    "For future use with featureCounts.\n",
    "\n",
    "Downloaded from \"GENCODE\". \n",
    "\n",
    "\"It contains the comprehensive gene annotation on the reference chromosomes, scaffolds, assembly patches and alternate loci (haplotypes)\". \n",
    "\n",
    "More precisely, it annotate a lot of gene/transcript biotypes : https://www.gencodegenes.org/gencode_biotypes.html."
   ]
  },
  {
   "cell_type": "code",
   "execution_count": 3,
   "metadata": {
    "code_folding": [
     0
    ],
    "collapsed": true
   },
   "outputs": [],
   "source": [
    "### CODE ###\n",
    "url='ftp://ftp.sanger.ac.uk/pub/gencode/Gencode_mouse/release_M16';\n",
    "axel -q $ubrl/gencode.vM16.chr_patch_hapl_scaff.annotation.gtf.gz;\n",
    "unpigz gencode.vM16.chr_patch_hapl_scaff.annotation.gtf.gz;"
   ]
  },
  {
   "cell_type": "markdown",
   "metadata": {},
   "source": [
    "#### 2.2.6) Subsample reference genome"
   ]
  },
  {
   "cell_type": "markdown",
   "metadata": {},
   "source": [
    "###### Remove reference genome sequences if they are not in the annotation used for featureCounts"
   ]
  },
  {
   "cell_type": "code",
   "execution_count": null,
   "metadata": {
    "code_folding": [
     0
    ],
    "collapsed": true
   },
   "outputs": [],
   "source": [
    "### CODE ###\n",
    "python /media/sf_raid/Projects/MGRS/subsample_fa_for_gtf_annotation.py -f /media/sf_raid/Data/MGRS/GRCm38.p5.genome.fa -g /media/sf_raid/Data/MGRS/gencode.vM16.chr_patch_hapl_scaff.annotation.gtf"
   ]
  },
  {
   "cell_type": "markdown",
   "metadata": {},
   "source": [
    "Content of subsample_fna_for_gtf_annotation.py :"
   ]
  },
  {
   "cell_type": "code",
   "execution_count": null,
   "metadata": {
    "code_folding": [
     0
    ],
    "collapsed": true
   },
   "outputs": [],
   "source": [
    "### CODE ###\n",
    "import os\n",
    "import sys\n",
    "import getopt\n",
    "import os.path\n",
    "import shutil\n",
    "from Bio import SeqIO\n",
    "\n",
    "### A script allowing change header of fa (.fasta) file with gtf annotation\n",
    "\n",
    "def usage():\n",
    "\tprint('Usage:')\n",
    "\tprint('\\tpython '+sys.argv[0]+' -f <fa file> -g <gtf file>')\n",
    "\tprint('\\t\\t-f or --fa : fa file')\n",
    "\tprint('\\t\\t-g or --gtf : gtf file')\n",
    "\n",
    "def main(argv):\n",
    "\n",
    "\tfa_file = \"\"\n",
    "\tgtf_file = \"\"\n",
    "\t\t\n",
    "\ttry:\n",
    "\t\topts, args = getopt.getopt(sys.argv[1:], 'f:g:', ['fa=', 'gtf=', 'help'])\n",
    "\texcept getopt.GetoptError:\n",
    "\t\tusage()\n",
    "\t\tsys.exit(2)\n",
    "\n",
    "\tif not opts :\n",
    "\t\tusage()\n",
    "\t\tsys.exit(2)\n",
    "\tfor opt, arg in opts:\n",
    "\t\tif opt in ('-h', '--help'):\n",
    "\t\t\tusage()\n",
    "\t\t\tsys.exit(2)\n",
    "\t\telif opt in ('-f', '--fa'):\n",
    "\t\t\tfa_file = arg\n",
    "\t\telif opt in ('-g', '--gtf'):\n",
    "\t\t\tgtf_file = arg\n",
    "\t\telse:\n",
    "\t\t\tusage()\n",
    "\t\t\tsys.exit(2)\n",
    "\n",
    "\tif (fa_file[-3:]!=\".fa\" and fa_file[-4:]!=\".fna\") or os.path.exists(fa_file)==False:\n",
    "\t\tprint(\"The fa file is missing, not .fa or .fna !\\n\")\n",
    "\t\tusage()\n",
    "\t\tsys.exit(2)\n",
    "\tif gtf_file[-4:]!=\".gtf\" or os.path.exists(gtf_file)==False:\n",
    "\t\tprint(\"The gtf file is missing or not .gtf !\\n\")\n",
    "\t\tusage()\n",
    "\t\tsys.exit(2)\n",
    "\t\n",
    "\toutput_subsample = fa_file[:-3]+\"_subsampled\"+\".fa\"\n",
    "\n",
    "\tprint('\\n-----------------------------------------')\n",
    "\tprint('fa file : '+fa_file)\n",
    "\tprint('GTF file : '+gtf_file)\n",
    "\tprint('Output file rename: '+output_subsample)\n",
    "\tprint('-----------------------------------------\\n')\n",
    "\n",
    "\tlist_header_fa=[]\n",
    "\tlist_header_gtf=[]\n",
    "\tshared_header=[]\n",
    "\n",
    "\tfor record in SeqIO.parse(fa_file, 'fasta'):\n",
    "\t\tif record.id not in list_header_fa:\n",
    "\t\t\tlist_header_fa.append(record.id)\n",
    "\n",
    "\tf_gtf = open(gtf_file, \"r\")\n",
    "\tfor line in f_gtf:\n",
    "\t\tif not line.startswith('#'):\n",
    "\t\t\tif line.split('\\t')[0] not in list_header_gtf:\n",
    "\t\t\t\tlist_header_gtf.append(line.split('\\t')[0])\n",
    "\n",
    "\tprint(\"Number of chromosome names in fa : \")\n",
    "\tprint(str(len(list_header_fa)))\n",
    "\tprint(\"Number of chromosome names in gtf : \")\n",
    "\tprint(str(len(list_header_gtf)))\n",
    "\n",
    "\tcount_unique_fa=0\n",
    "\tcount_unique_gtf=0\n",
    "\tcount_both=0\n",
    "\n",
    "\tfor i in list_header_fa:\n",
    "\t\tif i in list_header_gtf:\n",
    "\t\t\tshared_header.append(i)\n",
    "\t\t\tcount_both+=1\n",
    "\t\telse:\n",
    "\t\t\tcount_unique_fa+=1\n",
    "\n",
    "\tfor i in list_header_gtf:\n",
    "\t\tif i not in list_header_fa:\n",
    "\t\t\tcount_unique_gtf+=1\n",
    "\n",
    "\tprint(\"Number of unique in fa : \"+str(count_unique_fa))\n",
    "\tprint(\"Number of unique in gtf : \"+str(count_unique_gtf))\n",
    "\tprint(\"Number of shared : \"+str(count_both))\n",
    "\n",
    "\tf_output_subsample = open(output_subsample, 'a')\n",
    "\n",
    "\tfor record in SeqIO.parse(fa_file, 'fasta'):\n",
    "\t\tif record.id in shared_header:\n",
    "\t\t\tf_output_subsample.write(\">\"+record.id+\"\\n\")\n",
    "\t\t\tf_output_subsample.write(str(record.seq)+\"\\n\")\n",
    "\n",
    "if __name__ =='__main__':\n",
    "\tmain(sys.argv[1:])"
   ]
  },
  {
   "cell_type": "markdown",
   "metadata": {},
   "source": [
    "As shown above, the number fo chromosome names in the reference genome is 107 whereas annotation one is 86. 86 chromosome names are commun and 21 are specific to reference genome. These lasts were remove from the reference genome. "
   ]
  },
  {
   "cell_type": "markdown",
   "metadata": {},
   "source": [
    "###### Check :"
   ]
  },
  {
   "cell_type": "code",
   "execution_count": null,
   "metadata": {
    "code_folding": [
     0
    ],
    "collapsed": true
   },
   "outputs": [],
   "source": [
    "### CODE ###\n",
    "grep -Pio '^>.*' /media/sf_raid/Data/MGRS/GRCm38.p5.genome.fa | sort -u | wc -l;"
   ]
  },
  {
   "cell_type": "markdown",
   "metadata": {},
   "source": [
    "Result : 86"
   ]
  },
  {
   "cell_type": "markdown",
   "metadata": {},
   "source": [
    "#### 2.2.7) Rename reference transcriptome"
   ]
  },
  {
   "cell_type": "markdown",
   "metadata": {},
   "source": [
    "Gencode transcriptome has a huge identifier for each fasta entry. We will lighten it by keeping only the transcript name access."
   ]
  },
  {
   "cell_type": "code",
   "execution_count": null,
   "metadata": {
    "code_folding": [
     0
    ],
    "collapsed": true
   },
   "outputs": [],
   "source": [
    "### CODE ###\n",
    "sed 's/|.*//' gencode.vM16_cdna_ncrna_pc.fasta > gencode.vM16_cdna_ncrna_pc_truc.fasta"
   ]
  },
  {
   "cell_type": "markdown",
   "metadata": {},
   "source": [
    "#### 2.2.8) Chromosome file for Kallisto"
   ]
  },
  {
   "cell_type": "markdown",
   "metadata": {},
   "source": [
    "Kallisto's last version allow to pass a chromosome table with chromosome and length of this chromosome in order to directly annotate on genome"
   ]
  },
  {
   "cell_type": "code",
   "execution_count": null,
   "metadata": {
    "code_folding": [
     0
    ],
    "collapsed": true
   },
   "outputs": [],
   "source": [
    "### CODE ###\n",
    "bioawk -c fastx '{print $name, length($seq)}' <(/media/sf_raid/Data/MGRScat GRCm38.p5.genome_subsampled.fa) > /media/sf_raid/Data/MGRS/chromosomes_GRCm38.p5.genome_subsampled.fa.tsv;"
   ]
  },
  {
   "cell_type": "markdown",
   "metadata": {},
   "source": [
    "## 3) Raw reads QC & filtering"
   ]
  },
  {
   "cell_type": "markdown",
   "metadata": {},
   "source": [
    "### 3.1) FastQC"
   ]
  },
  {
   "cell_type": "code",
   "execution_count": null,
   "metadata": {
    "code_folding": [
     0
    ],
    "collapsed": true
   },
   "outputs": [],
   "source": [
    "### CODE ###\n",
    "fastqc /media/sf_raid/Data/MGRS/sirac/000-NEXTSEQ-2016.runs/161202_sirac_wtr_1003/*\n",
    "fastqc /media/sf_raid/Data/MGRS/sirac/000-NEXTSEQ-2017.runs/170411_Sirac_wtr_1024/170411_Sirac_wtr_1024_mouse/*\n",
    "fastqc /media/sf_raid/Data/MGRS/sirac/000-NEXTSEQ-2017.runs/171018_sirac_wtr_1069/*\n",
    "mkdir /media/sf_raid/Data/MGRS/FastQC\n",
    "mv /media/sf_raid/Data/MGRS/sirac/000-NEXTSEQ-2016.runs/161202_sirac_wtr_1003/*.zip /media/sf_raid/Data/MGRS/FastQC\n",
    "mv /media/sf_raid/Data/MGRS/sirac/000-NEXTSEQ-2016.runs/161202_sirac_wtr_1003/*.html /media/sf_raid/Data/MGRS/FastQC\n",
    "mv /media/sf_raid/Data/MGRS/sirac/000-NEXTSEQ-2017.runs/170411_Sirac_wtr_1024/170411_Sirac_wtr_1024_mouse/*.zip /media/sf_raid/Data/MGRS/FastQC\n",
    "mv /media/sf_raid/Data/MGRS/sirac/000-NEXTSEQ-2017.runs/170411_Sirac_wtr_1024/170411_Sirac_wtr_1024_mouse/*.html /media/sf_raid/Data/MGRS/FastQC\n",
    "mv /media/sf_raid/Data/MGRS/sirac/000-NEXTSEQ-2017.runs/171018_sirac_wtr_1069/*.zip /media/sf_raid/Data/MGRS/FastQC\n",
    "mv /media/sf_raid/Data/MGRS/sirac/000-NEXTSEQ-2017.runs/171018_sirac_wtr_1069/*.html /media/sf_raid/Data/MGRS/FastQC"
   ]
  },
  {
   "cell_type": "markdown",
   "metadata": {},
   "source": [
    "### 3.2) MultiQC"
   ]
  },
  {
   "cell_type": "markdown",
   "metadata": {},
   "source": [
    "We compile FastqQC analysis for all the data, to highlight potential run effect."
   ]
  },
  {
   "cell_type": "code",
   "execution_count": null,
   "metadata": {
    "code_folding": [
     0
    ],
    "collapsed": true
   },
   "outputs": [],
   "source": [
    "### CODE ###\n",
    "cd /media/sf_raid/Data/MGRS/FastQC\n",
    "multiqc -o 161202 *S7*.zip *S8*.zip *S9*.zip\n",
    "multiqc -o 170411 *S10*.zip *S11*.zip *S12*.zip\n",
    "multiqc -o 171018 *S13*.zip *S14*.zip *S15*.zip"
   ]
  },
  {
   "cell_type": "markdown",
   "metadata": {},
   "source": [
    "Visualize QC results :"
   ]
  },
  {
   "cell_type": "code",
   "execution_count": null,
   "metadata": {
    "code_folding": [
     0
    ],
    "collapsed": true
   },
   "outputs": [],
   "source": [
    "### CODE ###\n",
    "cd /media/sf_raid/Data/MGRS/FastQC\n",
    "chromium-browser 161202/multiqc_report.html;\n",
    "chromium-browser 170411/multiqc_report.html;\n",
    "chromium-browser 171018/multiqc_report.html;"
   ]
  },
  {
   "cell_type": "markdown",
   "metadata": {},
   "source": [
    "Conclusions : Excellent data. Quality mean around 30-35. Nothing to trim."
   ]
  },
  {
   "cell_type": "markdown",
   "metadata": {},
   "source": [
    "## 4) Mapping"
   ]
  },
  {
   "cell_type": "markdown",
   "metadata": {},
   "source": [
    "### 4.1) Build index :"
   ]
  },
  {
   "cell_type": "markdown",
   "metadata": {},
   "source": [
    "#### 4.1.1) Star :"
   ]
  },
  {
   "cell_type": "markdown",
   "metadata": {},
   "source": [
    "Using genotoul, STAR-2.5.2b"
   ]
  },
  {
   "cell_type": "code",
   "execution_count": null,
   "metadata": {
    "code_folding": [
     0
    ],
    "collapsed": true
   },
   "outputs": [],
   "source": [
    "### CODE ###\n",
    "#!/bin/bash\n",
    "#$ -q workq\n",
    "#$ -M bastien.herve@unilim.fr\n",
    "#$ -m bea\n",
    "#$ -l mem=16G\n",
    "#$ -l h_vmem=64G\n",
    "#$ -N star_idx\n",
    "#$ -o /home/hbastien/work/MGRS/star_idx.o\n",
    "#$ -e /home/hbastien/work/MGRS/star_idx.e\n",
    "\n",
    "star='/usr/local/bioinfo/src/STAR/STAR-2.5.2b/bin/Linux_x86_64_static/STAR'\n",
    "\n",
    "###--sjdbGTFfile specifies the path to the file with annotated transcripts in the standard GTF format. STAR will extract splice junctions from this file and use them to greatly improve accuracy of the mapping. While this is optional, and STAR can be run without annotations, using annotations is highly recommended whenever they are available\n",
    "###for GFF3 formatted annotations you need to use --sjdbGTFtagExonParentTranscript Parent\n",
    "###--sjdbOverhang specifies the length of the genomic sequence around the annotated junction to be used in constructing the splice junctions database. Ideally, this length should be equal to the ReadLength-1,\n",
    "\n",
    "$star --runThreadN 8 --runMode genomeGenerate --genomeDir /home/hbastien/work/MGRS/star_index --genomeFastaFiles /home/hbastien/save/MGRS/GRCm38.p5.genome_subsampled.fa --sjdbGTFfile /home/hbastien/save/MGRS/gencode.vM16.chr_patch_hapl_scaff.annotation.gtf --sjdbOverhang 75;"
   ]
  },
  {
   "cell_type": "markdown",
   "metadata": {},
   "source": [
    "#### 4.1.2) Kallisto :"
   ]
  },
  {
   "cell_type": "markdown",
   "metadata": {},
   "source": [
    "Using genotoul, Kallisto 0.44.0"
   ]
  },
  {
   "cell_type": "code",
   "execution_count": null,
   "metadata": {
    "code_folding": [
     0
    ],
    "collapsed": true
   },
   "outputs": [],
   "source": [
    "#### CODE ###\n",
    "#!/bin/bash\n",
    "#$ -q workq\n",
    "#$ -M bastien.herve@unilim.fr\n",
    "#$ -m bea\n",
    "#$ -l mem=8G\n",
    "#$ -l h_vmem=120G\n",
    "#$ -N kallisto_idx\n",
    "#$ -o /home/hbastien/work/MGRS/kallisto_idx.o\n",
    "#$ -e /home/hbastien/work/MGRS/kallisto_idx.e\n",
    "\n",
    "kallisto='/usr/local/bioinfo/src/kallisto/kallisto_linux-v0.44.0/kallisto'\n",
    "\n",
    "#####Index KALLISTO\n",
    "$kallisto index --make-unique -i /home/hbastien/work/MGRS/kallisto_index/gencode.vM16_cdna_ncrna_pc_renamed.fasta.idx /home/hbastien/save/MGRS/gencode.vM16_cdna_ncrna_pc_renamed.fasta"
   ]
  },
  {
   "cell_type": "markdown",
   "metadata": {},
   "source": [
    "### 4.2) Map reads"
   ]
  },
  {
   "cell_type": "markdown",
   "metadata": {},
   "source": [
    "#### 4.2.1) Star :"
   ]
  },
  {
   "cell_type": "code",
   "execution_count": null,
   "metadata": {
    "code_folding": [
     0
    ],
    "collapsed": true
   },
   "outputs": [],
   "source": [
    "### CODE ###\n",
    "#!/bin/bash\n",
    "#$ -q workq\n",
    "#$ -m bea\n",
    "#$ -l mem=8G\n",
    "#$ -l h_vmem=30G\n",
    "#$ -N star\n",
    "#$ -o /home/hbastien/work/MGRS/star.o\n",
    "#$ -e /home/hbastien/work/MGRS/star.e\n",
    "\n",
    "star='/usr/local/bioinfo/src/STAR/STAR-2.5.2b/bin/Linux_x86_64_static/STAR'\n",
    "\n",
    "#####Alignment STAR 161202\n",
    "for id in 'DH_S8' 'FRA_S7' 'WT_S9';\n",
    "#for id in 'DH_S8';\n",
    "do\n",
    "$star --genomeDir /home/hbastien/work/MGRS/star_index/ --readFilesIn <(gunzip -c /home/hbastien/save/MGRS/raw/161202/$id'_R1_001.fastq.gz') <(gunzip -c /home/hbastien/save/MGRS/raw/161202/$id'_R2_001.fastq.gz') --outFileNamePrefix Experiment_161202_Star$id --outSAMtype BAM SortedByCoordinate\n",
    "echo $star --genomeDir /home/hbastien/work/MGRS/star_index/ --readFilesIn <(gunzip -c /home/hbastien/save/MGRS/raw/161202/$id'_R1_001.fastq.gz') <(gunzip -c /home/hbastien/save/MGRS/raw/161202/$id'_R2_001.fastq.gz') --outFileNamePrefix Experiment_161202_Star$id --outSAMtype BAM SortedByCoordinate\n",
    "done\n",
    "\n",
    "#####Alignment STAR 170411\n",
    "for id in 'DH_ARN_S12' 'FRA_ARN_S11' 'WT_ARN_S10';\n",
    "#for id in 'DH_S8';\n",
    "do\n",
    "$star --genomeDir /home/hbastien/work/MGRS/star_index/ --readFilesIn <(gunzip -c /home/hbastien/save/MGRS/raw/170411/$id'_R1_001.fastq.gz') <(gunzip -c /home/hbastien/save/MGRS/raw/170411/$id'_R2_001.fastq.gz') --outFileNamePrefix Experiment_170411_Star$id --outSAMtype BAM SortedByCoordinate\n",
    "echo $star --genomeDir /home/hbastien/work/MGRS/star_index/ --readFilesIn <(gunzip -c /home/hbastien/save/MGRS/raw/170411/$id'_R1_001.fastq.gz') <(gunzip -c /home/hbastien/save/MGRS/raw/170411/$id'_R2_001.fastq.gz') --outFileNamePrefix Experiment_170411_Star$id --outSAMtype BAM SortedByCoordinate\n",
    "done\n",
    "\n",
    "#####Alignment STAR 171018\n",
    "for id in 'GLO_DH_S15' 'GLO_FRA_S14' 'GLO_WT_S13';\n",
    "#for id in 'DH_S8';\n",
    "do\n",
    "$star --genomeDir /home/hbastien/work/MGRS/star_index/ --readFilesIn <(gunzip -c /home/hbastien/save/MGRS/raw/171018/$id'_R1_001.fastq.gz') <(gunzip -c /home/hbastien/save/MGRS/raw/171018/$id'_R2_001.fastq.gz') --outFileNamePrefix Experiment_171018_Star$id --outSAMtype BAM SortedByCoordinate\n",
    "echo $star --genomeDir /home/hbastien/work/MGRS/star_index/ --readFilesIn <(gunzip -c /home/hbastien/save/MGRS/raw/171018/$id'_R1_001.fastq.gz') <(gunzip -c /home/hbastien/save/MGRS/raw/171018/$id'_R2_001.fastq.gz') --outFileNamePrefix Experiment_171018_Star$id --outSAMtype BAM SortedByCoordinate\n",
    "done"
   ]
  },
  {
   "cell_type": "markdown",
   "metadata": {},
   "source": [
    "### 4.3) Index BAM"
   ]
  },
  {
   "cell_type": "code",
   "execution_count": 1,
   "metadata": {
    "code_folding": [
     0
    ],
    "collapsed": true
   },
   "outputs": [],
   "source": [
    "### CODE ###\n",
    "for f in *.bam;\n",
    "do samtools index $f;\n",
    "done;"
   ]
  },
  {
   "cell_type": "markdown",
   "metadata": {},
   "source": [
    "### 4.4) RNA-seq alignment QC"
   ]
  },
  {
   "cell_type": "markdown",
   "metadata": {},
   "source": [
    "Outil permettant de faire des analyses statistiques de la qualité du mapping affectué par le mappeur."
   ]
  },
  {
   "cell_type": "markdown",
   "metadata": {},
   "source": [
    "Dans certains programmes utilisés, un bed file à 12 colonnes est requis.\n",
    "Celui ci a été utilisé : https://sourceforge.net/projects/rseqc/files/BED/Mouse_Mus_musculus/"
   ]
  },
  {
   "cell_type": "code",
   "execution_count": null,
   "metadata": {
    "code_folding": [
     0
    ],
    "collapsed": true
   },
   "outputs": [],
   "source": [
    "### CODE ###\n",
    "for f in *.bam;\n",
    "do\n",
    "echo $\n",
    "#Résume les statistiques du mapping contenu dans le fichier BAM\n",
    "bam_stat.py -i $f -q 30 > $f.out.bam_stat_stdoutput.txt\n",
    "#Calcul la distribution des nucléotides clippés au sein des reads\n",
    "clipping_profile.py -i $f -o $f.$f.out -q 30 -s \"PE\" > $f.$f.out.clipping_profile_stdoutput.txt\n",
    "#Calcul des distributions des deletions au sein des reads\n",
    "deletion_profile.py -i $f -l 75 -o $f.out -n 1000000 -q 30 > $f.out.deletion_profile_stdoutput.txt\n",
    "#Calcul de la couverture en reads sur les gènes\n",
    "geneBody_coverage.py -i $f -r /media/sf_raid/Data/MGRS/mm10_GENCODE_VM11_basic.bed -l 100 -f pdf -o $f.out > $f.out.geneBody_coverage_stdoutput.txt\n",
    "#Détecte la strand spécificité du jeu de données\n",
    "infer_experiment.py -i $f -r /media/sf_raid/Data/MGRS/mm10_GENCODE_VM11_basic.bed -s 50000000 -q 30 > $f.out.infer_experiment_stdoutput.txt\n",
    "#Calcul la taille de l'insert dans le jeu de données\n",
    "inner_distance.py -i $f -r /media/sf_raid/Data/MGRS/mm10_GENCODE_VM11_basic.bed -o $f.out -k 50000000 -l -250 -u 250 -s 5 -q 30 > $f.out.inner_distance_stdoutput.txt\n",
    "#Calcul les distributions des insertions de nucléotides\n",
    "insertion_profile.py -i $f -o $f.out -q 30 -s \"PE\" > $f.out.insertion_profile_stdoutput.txt\n",
    "#Détecte les reads splicés\n",
    "junction_annotation.py -i $f -o $f.out -r /media/sf_raid/Data/MGRS/mm10_GENCODE_VM11_basic.bed -m 50 -q 30 > $f.out.junction_annotation_std$f.output.txt\n",
    "#Regarde la saturation de la profondeur de séquençage\n",
    "junction_saturation.py -i $f -o $f.out -r /media/sf_raid/Data/MGRS/mm10_GENCODE_VM11_basic.bed -l 5 -u 100 -s 5 -m 50 -v 1 -q 30 > $f.out.junction_saturation.txt\n",
    "#Calcul la distribution en mismatch au sein des reads\n",
    "mismatch_profile.py -i $f -l 75 -o $f.out -n 1000000 -q 30 > $f.out.mismatch_profile_stdoutput.txt\n",
    "#Regarde la distribution des reads dans les exons, introns...\n",
    "read_distribution.py -i $f -r /media/sf_raid/Data/MGRS/mm10_GENCODE_VM11_basic.bed > $f.out.read_distribution_stdoutput.txt\n",
    "#Calcul le taux de duplication des reads\n",
    "read_duplication.py -i $f -o $f.out -u 500 -q 30 > $f.out.read_duplication_stdoutput.txt\n",
    "#Calcul le %GC\n",
    "read_GC.py -i $f -o $f.out -q 30 > $f.out.read_GC_stdoutput.txt\n",
    "#Calcul le % de chaque hexamer dans le jeu de données\n",
    "#Attention ici il prend un fasta\n",
    "#read_hexamer.py read_hexamer.py -i $f -r /media/sf_raid/Data/MGRS/GRCm38.p5.genome_subsampled.fa -g /media/sf_raid/Data/MGRS/gencode.vM16_cdna_ncrna_pc_renamed.fasta\n",
    "#Regarde la fréquence nucléotidique pour chaque nucléotide\n",
    "read_NVC.py -i $f -o $f.out -x -q 30 > $f.out.read_NVC_stdoutput.txt\n",
    "#Calcul le score Phred pour chaque position du read\n",
    "read_quality.py -i $f -o $f.out -r 1 -q 30 > $f.out.read_quality_stdoutput.txt\n",
    "#Calcul la taille du fragment de chaque gene\n",
    "RNA_fragment_size.py -i $f -r /media/sf_raid/Data/MGRS/mm10_GENCODE_VM11_basic.bed -q 30 -n 3 > $f.out.RNA_fragment_size_stdoutput.txt\n",
    "#Test l'intégrité au niveau transcriptionnel\n",
    "tin.py -i $f -r /media/sf_raid/Data/MGRS/mm10_GENCODE_VM11_basic.bed -c 10 -n 100 > $f.out.tin_stdoutput.txt\n",
    "done;"
   ]
  },
  {
   "cell_type": "markdown",
   "metadata": {},
   "source": [
    "###### Moving files"
   ]
  },
  {
   "cell_type": "code",
   "execution_count": null,
   "metadata": {
    "code_folding": [
     0
    ],
    "collapsed": true
   },
   "outputs": [],
   "source": [
    "### CODE ###\n",
    "mkdir /media/sf_raid/Data/MGRS/RSeQC\n",
    "mv *.txt /media/sf_raid/Data/MGRS/RSeQC\n",
    "mv *.xls /media/sf_raid/Data/MGRS/RSeQC\n",
    "mv *.r /media/sf_raid/Data/MGRS/RSeQC\n",
    "mv *.pdf /media/sf_raid/Data/MGRS/RSeQC"
   ]
  },
  {
   "cell_type": "markdown",
   "metadata": {},
   "source": [
    "## 5) Count"
   ]
  },
  {
   "cell_type": "markdown",
   "metadata": {},
   "source": [
    "### 5.1) FeatureCounts"
   ]
  },
  {
   "cell_type": "code",
   "execution_count": null,
   "metadata": {
    "code_folding": [
     0
    ],
    "collapsed": true
   },
   "outputs": [],
   "source": [
    "### CODE ###\n",
    "cd /media/sf_raid/Data/MGRS/Star;\n",
    "for id in 'Experiment_161202_StarDH_S8Aligned.sortedByCoord.out' 'Experiment_161202_StarFRA_S7Aligned.sortedByCoord.out' 'Experiment_161202_StarWT_S9Aligned.sortedByCoord.out' 'Experiment_170411_StarDH_ARN_S12Aligned.sortedByCoord.out' \\\n",
    "          'Experiment_170411_StarFRA_ARN_S11Aligned.sortedByCoord.out' 'Experiment_170411_StarWT_ARN_S10Aligned.sortedByCoord.out' 'Experiment_171018_StarGLO_DH_S15Aligned.sortedByCoord.out' 'Experiment_171018_StarGLO_FRA_S14Aligned.sortedByCoord.out' \\\n",
    "          'Experiment_171018_StarGLO_WT_S13Aligned.sortedByCoord.out';\n",
    "do Rscript /media/sf_raid/Projects/MGRS/featureCounts.R $id;\n",
    "done &>> /media/sf_raid/Data/MGRS/FeatureCounts/featureCounts.verbose;"
   ]
  },
  {
   "cell_type": "markdown",
   "metadata": {},
   "source": [
    "Content of featureCounts.R :"
   ]
  },
  {
   "cell_type": "code",
   "execution_count": null,
   "metadata": {
    "code_folding": [
     0
    ],
    "collapsed": true
   },
   "outputs": [],
   "source": [
    "### CODE ###\n",
    "#!/usr/bin/env Rscript\n",
    "\n",
    "args = commandArgs(trailingOnly=TRUE)\n",
    "in_file = paste(args[1], 'bam', sep = '.')\n",
    "out_file = paste('/media/sf_raid/Data/MGRS/FeatureCounts/', args[1], '.tsv', sep = '')\n",
    "\n",
    "library(Rsubread)\n",
    "\n",
    "fc = featureCounts(files=in_file,\n",
    "                   annot.ext=\"/media/sf_raid/Data/MGRS/gencode.vM16.chr_patch_hapl_scaff.annotation.gtf\",\n",
    "                   isGTFAnnotationFile=TRUE,\n",
    "                   GTF.featureType=\"exon\",\n",
    "                   GTF.attrType=\"gene_id\",\n",
    "                   allowMultiOverlap=FALSE,\n",
    "                   ignoreDup=FALSE,\n",
    "                   isPairedEnd=TRUE,\n",
    "                   nthreads=8,\n",
    "                   minMQS=0,\n",
    "                   maxMOp=10,\n",
    "                   checkFragLength=FALSE,\n",
    "                   useMetaFeatures=TRUE,\n",
    "                   strandSpecific=2,\n",
    "                   requireBothEndsMapped=TRUE,\n",
    "                   countChimericFragments=FALSE,\n",
    "                   primaryOnly=TRUE)\n",
    "write.table(fc$counts, out_file, append= T, sep='\\t', col.names=NA)"
   ]
  },
  {
   "cell_type": "markdown",
   "metadata": {},
   "source": [
    "### 5.2) Kallisto"
   ]
  },
  {
   "cell_type": "markdown",
   "metadata": {},
   "source": [
    "On Genotoul via Kallisto, version 0.44.0 :"
   ]
  },
  {
   "cell_type": "code",
   "execution_count": null,
   "metadata": {
    "code_folding": [
     0
    ],
    "collapsed": true
   },
   "outputs": [],
   "source": [
    "### CODE ###\n",
    "#!/bin/bash\n",
    "#$ -q workq\n",
    "#$ -M bastien.herve@unilim.fr\n",
    "#$ -m bea\n",
    "#$ -l mem=8G\n",
    "#$ -l h_vmem=30G\n",
    "#$ -N kallisto\n",
    "#$ -o /home/hbastien/work/MGRS/kallisto.o\n",
    "#$ -e /home/hbastien/work/MGRS/kallisto.e\n",
    "\n",
    "###-b, --bootstrap-samples=INT  Number of bootstrap samples\n",
    "###-c, --chromosomes            Tab separated file with chrosome names and lengths\n",
    "###--rf-stranded            Found this trying both case rf and fr, we got more reads pseudoaligned\n",
    "\n",
    "kallisto='/usr/local/bioinfo/src/kallisto/kallisto_linux-v0.44.0/kallisto'\n",
    "\n",
    "#####Alignment KALLISTO 161202\n",
    "for id in 'DH_S8' 'FRA_S7' 'WT_S9';\n",
    "do\n",
    "$kallisto quant -i /home/hbastien/work/MGRS/kallisto_index/gencode.vM16_cdna_ncrna_pc_renamed.fasta.idx -b 100 --genomebam --gtf /home/hbastien/save/MGRS/gencode.vM16.chr_patch_hapl_scaff.annotation.gtf --chromosomes /home/hbastien/save/MGRS/chromosomes_GRCm38.p5.genome_subsampled.fa.tsv --rf-stranded -o kallisto$id /home/hbastien/save/MGRS/raw/161202/$id'_R1_001.fastq.gz' /home/hbastien/save/MGRS/raw/161202/$id'_R2_001.fastq.gz'\n",
    "done\n",
    "#####Alignment KALLISTO 170411\n",
    "for id in 'DH_ARN_S12' 'FRA_ARN_S11' 'WT_ARN_S10';\n",
    "do\n",
    "$kallisto quant -i /home/hbastien/work/MGRS/kallisto_index/gencode.vM16_cdna_ncrna_pc_renamed.fasta.idx -b 100 --genomebam --gtf /home/hbastien/save/MGRS/gencode.vM16.chr_patch_hapl_scaff.annotation.gtf --chromosomes /home/hbastien/save/MGRS/chromosomes_GRCm38.p5.genome_subsampled.fa.tsv --rf-stranded -o kallisto$id /home/hbastien/save/MGRS/raw/170411/$id'_R1_001.fastq.gz' /home/hbastien/save/MGRS/raw/170411/$id'_R2_001.fastq.gz'\n",
    "done\n",
    "#####Alignment KALLISTO 171018\n",
    "for id in 'GLO_DH_S15' 'GLO_FRA_S14' 'GLO_WT_S13';\n",
    "do\n",
    "$kallisto quant -i /home/hbastien/work/MGRS/kallisto_index/gencode.vM16_cdna_ncrna_pc_renamed.fasta.idx -b 100 --genomebam --gtf /home/hbastien/save/MGRS/gencode.vM16.chr_patch_hapl_scaff.annotation.gtf --chromosomes /home/hbastien/save/MGRS/chromosomes_GRCm38.p5.genome_subsampled.fa.tsv --rf-stranded -o kallisto$id /home/hbastien/save/MGRS/raw/171018/$id'_R1_001.fastq.gz' /home/hbastien/save/MGRS/raw/171018/$id'_R2_001.fastq.gz'\n",
    "done"
   ]
  },
  {
   "cell_type": "markdown",
   "metadata": {},
   "source": [
    "### 5.3) Downstream analysis compatibility"
   ]
  },
  {
   "cell_type": "markdown",
   "metadata": {},
   "source": [
    "Slightly modify featureCounts output to make it compatible with future steps of the analysis. We want our gene names to be the same than those contained in ensembl when retrieved with biomart."
   ]
  },
  {
   "cell_type": "markdown",
   "metadata": {},
   "source": [
    "#### 5.3.1) FeatureCounts"
   ]
  },
  {
   "cell_type": "markdown",
   "metadata": {},
   "source": [
    "Remove spreadsheet hidden ' \" ' for downstream compatility with our awk manipulation :"
   ]
  },
  {
   "cell_type": "code",
   "execution_count": null,
   "metadata": {
    "code_folding": [],
    "collapsed": true
   },
   "outputs": [],
   "source": [
    "### CODE ###\n",
    "cd /media/sf_raid/Data/MGRS/FeatureCounts;\n",
    "for f in *.tsv;\n",
    "do sed 's/\\\"//g' $f > ${f%.*}\".temp.tsv\";\n",
    "done;"
   ]
  },
  {
   "cell_type": "markdown",
   "metadata": {},
   "source": [
    "Use awk sub to convert \"ENSMUSG00000098104.12\" -> \"ENSMUSG00000098104\" :"
   ]
  },
  {
   "cell_type": "code",
   "execution_count": null,
   "metadata": {
    "code_folding": [
     0
    ],
    "collapsed": true
   },
   "outputs": [],
   "source": [
    "### CODE ###\n",
    "for f in *.temp.tsv;\n",
    "do awk -F '\\t' -v OFS='\\t' 'NR > 1 {sub(/\\.[0-9]*/, \"\", $1)} 1' $f > ${f%%.*}\"_ensembl_gene_id.tsv\";\n",
    "done;\n",
    "rm *.temp.tsv;"
   ]
  },
  {
   "cell_type": "markdown",
   "metadata": {},
   "source": [
    "Check that the removal of \".[0-9]?\" from the gene id column did not change the number of unique gene ids :"
   ]
  },
  {
   "cell_type": "code",
   "execution_count": null,
   "metadata": {
    "code_folding": [
     0
    ],
    "collapsed": true
   },
   "outputs": [],
   "source": [
    "### CODE ###\n",
    "for f in *.tsv;\n",
    "do awk -F '\\t' '{print $1}' $f | sort -u | wc -l;\n",
    "done;"
   ]
  },
  {
   "cell_type": "markdown",
   "metadata": {},
   "source": [
    "We did show that transforming gene name \"ENSMUSG00000098104.12\" -> \"ENSMUSG00000098104\" did not change the number unique gene names."
   ]
  },
  {
   "cell_type": "markdown",
   "metadata": {},
   "source": [
    "#### 5.3.2) Kallisto"
   ]
  },
  {
   "cell_type": "markdown",
   "metadata": {},
   "source": [
    "Check that the removal of \".[0-9]?\" from the gene id column did not change the number of unique gene ids :"
   ]
  },
  {
   "cell_type": "code",
   "execution_count": null,
   "metadata": {
    "collapsed": true
   },
   "outputs": [],
   "source": [
    "### CODE ###\n",
    "cd /media/sf_raid/Data/MGRS/Kallisto;\n",
    "for d in ./*;\n",
    "do awk -F '\\t' -v OFS='\\t' 'NR > 1 {sub(/\\.[0-9]*/, \"\", $1)} 1' $d/\"abundance.tsv\" > $d/\"abundance_ensembl_gene_id.tsv\";\n",
    "done;"
   ]
  },
  {
   "cell_type": "markdown",
   "metadata": {},
   "source": [
    "Use awk sub to convert \"ENSMUSG00000098104.12\" -> \"ENSMUSG00000098104\" :"
   ]
  },
  {
   "cell_type": "code",
   "execution_count": null,
   "metadata": {
    "collapsed": true
   },
   "outputs": [],
   "source": [
    "### CODE ###\n",
    "for d in ./*;\n",
    "do awk -F '\\t' '{print $1}' $d/\"abundance.tsv\" | sort -u | wc -l;\n",
    "done;"
   ]
  },
  {
   "cell_type": "markdown",
   "metadata": {},
   "source": [
    "We did show that transforming gene name \"ENSMUSG00000098104.12\" -> \"ENSMUSG00000098104\" did not change the number unique gene names."
   ]
  },
  {
   "cell_type": "markdown",
   "metadata": {},
   "source": [
    "## 6) DE analysis"
   ]
  },
  {
   "cell_type": "code",
   "execution_count": null,
   "metadata": {
    "collapsed": true
   },
   "outputs": [],
   "source": []
  }
 ],
 "metadata": {
  "anaconda-cloud": {},
  "kernelspec": {
   "display_name": "Bash",
   "language": "bash",
   "name": "bash"
  },
  "language_info": {
   "codemirror_mode": "shell",
   "file_extension": ".sh",
   "mimetype": "text/x-sh",
   "name": "bash"
  }
 },
 "nbformat": 4,
 "nbformat_minor": 1
}
